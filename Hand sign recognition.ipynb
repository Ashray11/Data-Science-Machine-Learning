{
 "cells": [
  {
   "cell_type": "code",
   "execution_count": 1,
   "metadata": {},
   "outputs": [],
   "source": [
    "import math\n",
    "import numpy as np\n",
    "import pandas as pd\n",
    "import h5py\n",
    "from matplotlib import pyplot as plt\n",
    "from tensorflow.keras.models import Sequential\n",
    "import keras\n",
    "from keras.layers.convolutional import Conv2D, MaxPooling2D\n",
    "from keras.losses import categorical_crossentropy\n",
    "from keras import  layers, models\n",
    "from keras.layers import Dense, Flatten, Flatten, BatchNormalization, Activation, Dropout"
   ]
  },
  {
   "cell_type": "code",
   "execution_count": 2,
   "metadata": {},
   "outputs": [],
   "source": [
    "# Loading the dataset\n",
    "train_dataset = h5py.File('train_signs.h5', \"r\") #provide proper path\n",
    "train_set_x_orig = np.array(train_dataset[\"train_set_x\"][:]) \n",
    "train_set_y_orig = np.array(train_dataset[\"train_set_y\"][:]) \n",
    "\n",
    "test_dataset = h5py.File('test_signs.h5', \"r\")  #provide proper path\n",
    "test_set_x_orig = np.array(test_dataset[\"test_set_x\"][:]) \n",
    "test_set_y_orig = np.array(test_dataset[\"test_set_y\"][:]) "
   ]
  },
  {
   "cell_type": "code",
   "execution_count": 3,
   "metadata": {},
   "outputs": [
    {
     "data": {
      "image/png": "[encoded data removed]",
      "text/plain": [
       "<Figure size 432x288 with 1 Axes>"
      ]
     },
     "metadata": {
      "needs_background": "light"
     },
     "output_type": "display_data"
    }
   ],
   "source": [
    "plt.imshow(train_set_x_orig[1], interpolation='nearest')\n",
    "plt.show()"
   ]
  },
  {
   "cell_type": "code",
   "execution_count": 4,
   "metadata": {},
   "outputs": [],
   "source": [
    "X_train = train_set_x_orig / 255.0\n",
    "X_test = test_set_x_orig / 255.0"
   ]
  },
  {
   "cell_type": "code",
   "execution_count": 6,
   "metadata": {},
   "outputs": [
    {
     "name": "stdout",
     "output_type": "stream",
     "text": [
      "Model: \"sequential_1\"\n",
      "_________________________________________________________________\n",
      "Layer (type)                 Output Shape              Param #   \n",
      "=================================================================\n",
      "conv2d_3 (Conv2D)            (None, 62, 62, 16)        448       \n",
      "_________________________________________________________________\n",
      "batch_normalization_3 (Batch (None, 62, 62, 16)        64        \n",
      "_________________________________________________________________\n",
      "activation_3 (Activation)    (None, 62, 62, 16)        0         \n",
      "_________________________________________________________________\n",
      "max_pooling2d_3 (MaxPooling2 (None, 31, 31, 16)        0         \n",
      "_________________________________________________________________\n",
      "conv2d_4 (Conv2D)            (None, 29, 29, 32)        4640      \n",
      "_________________________________________________________________\n",
      "batch_normalization_4 (Batch (None, 29, 29, 32)        128       \n",
      "_________________________________________________________________\n",
      "activation_4 (Activation)    (None, 29, 29, 32)        0         \n",
      "_________________________________________________________________\n",
      "max_pooling2d_4 (MaxPooling2 (None, 14, 14, 32)        0         \n",
      "_________________________________________________________________\n",
      "conv2d_5 (Conv2D)            (None, 12, 12, 64)        18496     \n",
      "_________________________________________________________________\n",
      "batch_normalization_5 (Batch (None, 12, 12, 64)        256       \n",
      "_________________________________________________________________\n",
      "activation_5 (Activation)    (None, 12, 12, 64)        0         \n",
      "_________________________________________________________________\n",
      "max_pooling2d_5 (MaxPooling2 (None, 6, 6, 64)          0         \n",
      "_________________________________________________________________\n",
      "flatten_1 (Flatten)          (None, 2304)              0         \n",
      "_________________________________________________________________\n",
      "dense_3 (Dense)              (None, 256)               590080    \n",
      "_________________________________________________________________\n",
      "dense_4 (Dense)              (None, 128)               32896     \n",
      "_________________________________________________________________\n",
      "dense_5 (Dense)              (None, 6)                 774       \n",
      "=================================================================\n",
      "Total params: 647,782\n",
      "Trainable params: 647,558\n",
      "Non-trainable params: 224\n",
      "_________________________________________________________________\n"
     ]
    }
   ],
   "source": [
    "# add your model here\n",
    "\n",
    "model = models.Sequential([\n",
    "    Conv2D(filters=16, kernel_size=(3, 3), activation='relu', input_shape=(64, 64, 3)),\n",
    "    BatchNormalization(),\n",
    "    Activation('relu'),\n",
    "    MaxPooling2D((2, 2)),\n",
    "    \n",
    "    Conv2D(filters=32, kernel_size=(3, 3), activation='relu', input_shape=(64, 64, 3)),\n",
    "    BatchNormalization(),\n",
    "    Activation('relu'),\n",
    "    MaxPooling2D((2, 2)),\n",
    "\n",
    "    Conv2D(filters=64, kernel_size=(3, 3), activation='relu', input_shape=(64, 64, 3)),\n",
    "    BatchNormalization(),\n",
    "    Activation('relu'),\n",
    "    MaxPooling2D((2, 2)),\n",
    "    \n",
    "    Flatten(),\n",
    "    \n",
    "    Dense(256, activation='relu'),\n",
    "\n",
    "    Dense(128, activation='relu'),\n",
    "\n",
    "    layers.Dense(6, activation='softmax')\n",
    "])\n",
    "\n",
    "model.compile(optimizer='adam',\n",
    "              loss='sparse_categorical_crossentropy',\n",
    "              metrics=['accuracy'])\n",
    "\n",
    "model.summary()"
   ]
  },
  {
   "cell_type": "code",
   "execution_count": 7,
   "metadata": {},
   "outputs": [
    {
     "name": "stdout",
     "output_type": "stream",
     "text": [
      "Epoch 1/25\n",
      "34/34 [==============================] - 4s 98ms/step - loss: 1.2646 - accuracy: 0.5741 - val_loss: 1.7723 - val_accuracy: 0.1750\n",
      "Epoch 2/25\n",
      "34/34 [==============================] - 3s 90ms/step - loss: 0.2450 - accuracy: 0.9222 - val_loss: 1.7721 - val_accuracy: 0.1667\n",
      "Epoch 3/25\n",
      "34/34 [==============================] - 3s 91ms/step - loss: 0.0748 - accuracy: 0.9778 - val_loss: 1.7859 - val_accuracy: 0.1583\n",
      "Epoch 4/25\n",
      "34/34 [==============================] - 3s 97ms/step - loss: 0.0318 - accuracy: 0.9935 - val_loss: 1.7825 - val_accuracy: 0.1750\n",
      "Epoch 5/25\n",
      "34/34 [==============================] - 3s 93ms/step - loss: 0.0072 - accuracy: 1.0000 - val_loss: 1.7694 - val_accuracy: 0.2167\n",
      "Epoch 6/25\n",
      "34/34 [==============================] - 3s 89ms/step - loss: 0.0031 - accuracy: 1.0000 - val_loss: 1.7580 - val_accuracy: 0.2333\n",
      "Epoch 7/25\n",
      "34/34 [==============================] - 4s 112ms/step - loss: 0.0019 - accuracy: 1.0000 - val_loss: 1.7339 - val_accuracy: 0.2500\n",
      "Epoch 8/25\n",
      "34/34 [==============================] - 5s 133ms/step - loss: 0.0014 - accuracy: 1.0000 - val_loss: 1.6905 - val_accuracy: 0.2583\n",
      "Epoch 9/25\n",
      "34/34 [==============================] - 4s 117ms/step - loss: 9.8518e-04 - accuracy: 1.0000 - val_loss: 1.6137 - val_accuracy: 0.3083\n",
      "Epoch 10/25\n",
      "34/34 [==============================] - 4s 109ms/step - loss: 7.4800e-04 - accuracy: 1.0000 - val_loss: 1.4875 - val_accuracy: 0.4000\n",
      "Epoch 11/25\n",
      "34/34 [==============================] - 4s 109ms/step - loss: 6.6187e-04 - accuracy: 1.0000 - val_loss: 1.3141 - val_accuracy: 0.5417\n",
      "Epoch 12/25\n",
      "34/34 [==============================] - 4s 112ms/step - loss: 6.3650e-04 - accuracy: 1.0000 - val_loss: 1.1299 - val_accuracy: 0.5917\n",
      "Epoch 13/25\n",
      "34/34 [==============================] - 4s 109ms/step - loss: 4.8025e-04 - accuracy: 1.0000 - val_loss: 0.8974 - val_accuracy: 0.6667\n",
      "Epoch 14/25\n",
      "34/34 [==============================] - 4s 106ms/step - loss: 4.4084e-04 - accuracy: 1.0000 - val_loss: 0.6871 - val_accuracy: 0.7667\n",
      "Epoch 15/25\n",
      "34/34 [==============================] - 4s 107ms/step - loss: 3.8130e-04 - accuracy: 1.0000 - val_loss: 0.5365 - val_accuracy: 0.8000\n",
      "Epoch 16/25\n",
      "34/34 [==============================] - 3s 93ms/step - loss: 3.6255e-04 - accuracy: 1.0000 - val_loss: 0.4124 - val_accuracy: 0.8417\n",
      "Epoch 17/25\n",
      "34/34 [==============================] - 3s 92ms/step - loss: 3.1319e-04 - accuracy: 1.0000 - val_loss: 0.3300 - val_accuracy: 0.9083\n",
      "Epoch 18/25\n",
      "34/34 [==============================] - 3s 95ms/step - loss: 2.8339e-04 - accuracy: 1.0000 - val_loss: 0.2601 - val_accuracy: 0.9333\n",
      "Epoch 19/25\n",
      "34/34 [==============================] - 3s 91ms/step - loss: 2.3962e-04 - accuracy: 1.0000 - val_loss: 0.2143 - val_accuracy: 0.9333\n",
      "Epoch 20/25\n",
      "34/34 [==============================] - 3s 92ms/step - loss: 2.3039e-04 - accuracy: 1.0000 - val_loss: 0.1782 - val_accuracy: 0.9417\n",
      "Epoch 21/25\n",
      "34/34 [==============================] - 3s 101ms/step - loss: 2.0030e-04 - accuracy: 1.0000 - val_loss: 0.1586 - val_accuracy: 0.9333\n",
      "Epoch 22/25\n",
      "34/34 [==============================] - 3s 94ms/step - loss: 2.0457e-04 - accuracy: 1.0000 - val_loss: 0.1484 - val_accuracy: 0.9333\n",
      "Epoch 23/25\n",
      "34/34 [==============================] - 3s 93ms/step - loss: 1.7395e-04 - accuracy: 1.0000 - val_loss: 0.1438 - val_accuracy: 0.9417\n",
      "Epoch 24/25\n",
      "34/34 [==============================] - 3s 90ms/step - loss: 1.5868e-04 - accuracy: 1.0000 - val_loss: 0.1393 - val_accuracy: 0.9500\n",
      "Epoch 25/25\n",
      "34/34 [==============================] - 3s 93ms/step - loss: 1.4269e-04 - accuracy: 1.0000 - val_loss: 0.1427 - val_accuracy: 0.9500\n"
     ]
    },
    {
     "data": {
      "text/plain": [
       "<keras.callbacks.History at 0x21ef506aaf0>"
      ]
     },
     "execution_count": 7,
     "metadata": {},
     "output_type": "execute_result"
    }
   ],
   "source": [
    "model.fit(X_train, train_set_y_orig, epochs=25,\n",
    "       validation_data= (X_test,test_set_y_orig))"
   ]
  },
  {
   "cell_type": "code",
   "execution_count": 8,
   "metadata": {},
   "outputs": [
    {
     "name": "stdout",
     "output_type": "stream",
     "text": [
      "4/4 [==============================] - 0s 20ms/step - loss: 0.1427 - accuracy: 0.9500\n",
      "Test Accuracy: 0.949999988079071\n"
     ]
    }
   ],
   "source": [
    "loss, acc = model.evaluate(X_test,test_set_y_orig)\n",
    "print('Test Accuracy:', acc)"
   ]
  },
  {
   "cell_type": "code",
   "execution_count": 10,
   "metadata": {},
   "outputs": [],
   "source": [
    "#saving the model\n",
    "\n",
    "model.save('model_cnn.h5')"
   ]
  },
  {
   "cell_type": "code",
   "execution_count": 15,
   "metadata": {},
   "outputs": [],
   "source": [
    "#load saved model\n",
    "\n",
    "loaded_model = models.load_model('model_cnn.h5')"
   ]
  },
  {
   "cell_type": "code",
   "execution_count": null,
   "metadata": {},
   "outputs": [],
   "source": []
  },
  {
   "cell_type": "code",
   "execution_count": null,
   "metadata": {},
   "outputs": [],
   "source": []
  }
 ],
 "metadata": {
  "kernelspec": {
   "display_name": "Python 3 (ipykernel)",
   "language": "python",
   "name": "python3"
  },
  "language_info": {
   "codemirror_mode": {
    "name": "ipython",
    "version": 3
   },
   "file_extension": ".py",
   "mimetype": "text/x-python",
   "name": "python",
   "nbconvert_exporter": "python",
   "pygments_lexer": "ipython3",
   "version": "3.9.6"
  }
 },
 "nbformat": 4,
 "nbformat_minor": 4
}
