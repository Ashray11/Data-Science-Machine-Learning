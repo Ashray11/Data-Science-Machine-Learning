{
 "cells": [
  {
   "cell_type": "code",
   "execution_count": 23,
   "metadata": {},
   "outputs": [],
   "source": [
    "import math\n",
    "import numpy as np\n",
    "import pandas as pd\n",
    "import h5py\n",
    "from matplotlib import pyplot as plt\n",
    "from tensorflow.keras.models import Sequential\n",
    "from tensorflow.math import confusion_matrix\n",
    "import keras\n",
    "from keras.layers.convolutional import Conv2D, MaxPooling2D\n",
    "from keras.losses import categorical_crossentropy\n",
    "from keras import  layers, models\n",
    "from keras.layers import Dense, Flatten, Flatten, BatchNormalization, Activation, Dropout\n",
    "import seaborn as sns"
   ]
  },
  {
   "cell_type": "code",
   "execution_count": 2,
   "metadata": {},
   "outputs": [],
   "source": [
    "# Loading the dataset\n",
    "train_dataset = h5py.File('train_signs.h5', \"r\") #provide proper path\n",
    "train_set_x_orig = np.array(train_dataset[\"train_set_x\"][:]) \n",
    "train_set_y_orig = np.array(train_dataset[\"train_set_y\"][:]) \n",
    "\n",
    "test_dataset = h5py.File('test_signs.h5', \"r\")  #provide proper path\n",
    "test_set_x_orig = np.array(test_dataset[\"test_set_x\"][:]) \n",
    "test_set_y_orig = np.array(test_dataset[\"test_set_y\"][:]) "
   ]
  },
  {
   "cell_type": "code",
   "execution_count": 3,
   "metadata": {},
   "outputs": [
    {
     "data": {
      "image/png": "[encoded data removed]",
      "text/plain": [
       "<Figure size 432x288 with 1 Axes>"
      ]
     },
     "metadata": {
      "needs_background": "light"
     },
     "output_type": "display_data"
    }
   ],
   "source": [
    "plt.imshow(train_set_x_orig[1], interpolation='nearest')\n",
    "plt.show()"
   ]
  },
  {
   "cell_type": "code",
   "execution_count": 4,
   "metadata": {},
   "outputs": [],
   "source": [
    "X_train = train_set_x_orig / 255.0\n",
    "X_test = test_set_x_orig / 255.0"
   ]
  },
  {
   "cell_type": "code",
   "execution_count": 5,
   "metadata": {},
   "outputs": [
    {
     "name": "stdout",
     "output_type": "stream",
     "text": [
      "Model: \"sequential\"\n",
      "_________________________________________________________________\n",
      "Layer (type)                 Output Shape              Param #   \n",
      "=================================================================\n",
      "conv2d (Conv2D)              (None, 62, 62, 16)        448       \n",
      "_________________________________________________________________\n",
      "batch_normalization (BatchNo (None, 62, 62, 16)        64        \n",
      "_________________________________________________________________\n",
      "activation (Activation)      (None, 62, 62, 16)        0         \n",
      "_________________________________________________________________\n",
      "max_pooling2d (MaxPooling2D) (None, 31, 31, 16)        0         \n",
      "_________________________________________________________________\n",
      "conv2d_1 (Conv2D)            (None, 29, 29, 32)        4640      \n",
      "_________________________________________________________________\n",
      "batch_normalization_1 (Batch (None, 29, 29, 32)        128       \n",
      "_________________________________________________________________\n",
      "activation_1 (Activation)    (None, 29, 29, 32)        0         \n",
      "_________________________________________________________________\n",
      "max_pooling2d_1 (MaxPooling2 (None, 14, 14, 32)        0         \n",
      "_________________________________________________________________\n",
      "conv2d_2 (Conv2D)            (None, 12, 12, 64)        18496     \n",
      "_________________________________________________________________\n",
      "batch_normalization_2 (Batch (None, 12, 12, 64)        256       \n",
      "_________________________________________________________________\n",
      "activation_2 (Activation)    (None, 12, 12, 64)        0         \n",
      "_________________________________________________________________\n",
      "max_pooling2d_2 (MaxPooling2 (None, 6, 6, 64)          0         \n",
      "_________________________________________________________________\n",
      "flatten (Flatten)            (None, 2304)              0         \n",
      "_________________________________________________________________\n",
      "dense (Dense)                (None, 256)               590080    \n",
      "_________________________________________________________________\n",
      "dense_1 (Dense)              (None, 128)               32896     \n",
      "_________________________________________________________________\n",
      "dense_2 (Dense)              (None, 6)                 774       \n",
      "=================================================================\n",
      "Total params: 647,782\n",
      "Trainable params: 647,558\n",
      "Non-trainable params: 224\n",
      "_________________________________________________________________\n"
     ]
    }
   ],
   "source": [
    "# add your model here\n",
    "\n",
    "model = models.Sequential([\n",
    "    Conv2D(filters=16, kernel_size=(3, 3), activation='relu', input_shape=(64, 64, 3)),\n",
    "    BatchNormalization(),\n",
    "    Activation('relu'),\n",
    "    MaxPooling2D((2, 2)),\n",
    "    \n",
    "    Conv2D(filters=32, kernel_size=(3, 3), activation='relu', input_shape=(64, 64, 3)),\n",
    "    BatchNormalization(),\n",
    "    Activation('relu'),\n",
    "    MaxPooling2D((2, 2)),\n",
    "\n",
    "    Conv2D(filters=64, kernel_size=(3, 3), activation='relu', input_shape=(64, 64, 3)),\n",
    "    BatchNormalization(),\n",
    "    Activation('relu'),\n",
    "    MaxPooling2D((2, 2)),\n",
    "    \n",
    "    Flatten(),\n",
    "    \n",
    "    Dense(256, activation='relu'),\n",
    "\n",
    "    Dense(128, activation='relu'),\n",
    "\n",
    "    layers.Dense(6, activation='softmax')\n",
    "])\n",
    "\n",
    "model.compile(optimizer='adam',\n",
    "              loss='sparse_categorical_crossentropy',\n",
    "              metrics=['accuracy'])\n",
    "\n",
    "model.summary()"
   ]
  },
  {
   "cell_type": "code",
   "execution_count": 6,
   "metadata": {},
   "outputs": [
    {
     "name": "stdout",
     "output_type": "stream",
     "text": [
      "Epoch 1/25\n",
      "34/34 [==============================] - 4s 110ms/step - loss: 1.2354 - accuracy: 0.5769 - val_loss: 1.7814 - val_accuracy: 0.2167\n",
      "Epoch 2/25\n",
      "34/34 [==============================] - 3s 100ms/step - loss: 0.2357 - accuracy: 0.9222 - val_loss: 1.7876 - val_accuracy: 0.1667\n",
      "Epoch 3/25\n",
      "34/34 [==============================] - 3s 99ms/step - loss: 0.0890 - accuracy: 0.9778 - val_loss: 1.7895 - val_accuracy: 0.1750\n",
      "Epoch 4/25\n",
      "34/34 [==============================] - 3s 99ms/step - loss: 0.0186 - accuracy: 0.9972 - val_loss: 1.7829 - val_accuracy: 0.2000\n",
      "Epoch 5/25\n",
      "34/34 [==============================] - 3s 101ms/step - loss: 0.0051 - accuracy: 1.0000 - val_loss: 1.7777 - val_accuracy: 0.2500\n",
      "Epoch 6/25\n",
      "34/34 [==============================] - 4s 104ms/step - loss: 0.0023 - accuracy: 1.0000 - val_loss: 1.7720 - val_accuracy: 0.2917\n",
      "Epoch 7/25\n",
      "34/34 [==============================] - 3s 99ms/step - loss: 0.0016 - accuracy: 1.0000 - val_loss: 1.7602 - val_accuracy: 0.3167\n",
      "Epoch 8/25\n",
      "34/34 [==============================] - 3s 99ms/step - loss: 0.0012 - accuracy: 1.0000 - val_loss: 1.7353 - val_accuracy: 0.3333\n",
      "Epoch 9/25\n",
      "34/34 [==============================] - 3s 101ms/step - loss: 9.5836e-04 - accuracy: 1.0000 - val_loss: 1.6807 - val_accuracy: 0.3833\n",
      "Epoch 10/25\n",
      "34/34 [==============================] - 4s 104ms/step - loss: 8.4754e-04 - accuracy: 1.0000 - val_loss: 1.5942 - val_accuracy: 0.3917\n",
      "Epoch 11/25\n",
      "34/34 [==============================] - 4s 103ms/step - loss: 6.3509e-04 - accuracy: 1.0000 - val_loss: 1.4537 - val_accuracy: 0.4417\n",
      "Epoch 12/25\n",
      "34/34 [==============================] - 3s 100ms/step - loss: 5.3917e-04 - accuracy: 1.0000 - val_loss: 1.2457 - val_accuracy: 0.5167\n",
      "Epoch 13/25\n",
      "34/34 [==============================] - 3s 101ms/step - loss: 4.6941e-04 - accuracy: 1.0000 - val_loss: 1.0048 - val_accuracy: 0.6250\n",
      "Epoch 14/25\n",
      "34/34 [==============================] - 3s 100ms/step - loss: 4.1402e-04 - accuracy: 1.0000 - val_loss: 0.7558 - val_accuracy: 0.7333\n",
      "Epoch 15/25\n",
      "34/34 [==============================] - 4s 106ms/step - loss: 3.6111e-04 - accuracy: 1.0000 - val_loss: 0.5574 - val_accuracy: 0.8167\n",
      "Epoch 16/25\n",
      "34/34 [==============================] - 4s 103ms/step - loss: 3.1699e-04 - accuracy: 1.0000 - val_loss: 0.4073 - val_accuracy: 0.8667\n",
      "Epoch 17/25\n",
      "34/34 [==============================] - 3s 101ms/step - loss: 2.6511e-04 - accuracy: 1.0000 - val_loss: 0.2938 - val_accuracy: 0.9083\n",
      "Epoch 18/25\n",
      "34/34 [==============================] - 3s 100ms/step - loss: 2.7072e-04 - accuracy: 1.0000 - val_loss: 0.2306 - val_accuracy: 0.9167\n",
      "Epoch 19/25\n",
      "34/34 [==============================] - 3s 102ms/step - loss: 2.3947e-04 - accuracy: 1.0000 - val_loss: 0.1923 - val_accuracy: 0.9250\n",
      "Epoch 20/25\n",
      "34/34 [==============================] - 4s 106ms/step - loss: 2.0837e-04 - accuracy: 1.0000 - val_loss: 0.1832 - val_accuracy: 0.9417\n",
      "Epoch 21/25\n",
      "34/34 [==============================] - 3s 101ms/step - loss: 1.9275e-04 - accuracy: 1.0000 - val_loss: 0.1688 - val_accuracy: 0.9417\n",
      "Epoch 22/25\n",
      "34/34 [==============================] - 3s 102ms/step - loss: 1.7788e-04 - accuracy: 1.0000 - val_loss: 0.1682 - val_accuracy: 0.9500\n",
      "Epoch 23/25\n",
      "34/34 [==============================] - 3s 102ms/step - loss: 1.5418e-04 - accuracy: 1.0000 - val_loss: 0.1698 - val_accuracy: 0.9583\n",
      "Epoch 24/25\n",
      "34/34 [==============================] - 4s 110ms/step - loss: 1.4409e-04 - accuracy: 1.0000 - val_loss: 0.1719 - val_accuracy: 0.9583\n",
      "Epoch 25/25\n",
      "34/34 [==============================] - 4s 118ms/step - loss: 1.3653e-04 - accuracy: 1.0000 - val_loss: 0.1669 - val_accuracy: 0.9583\n"
     ]
    },
    {
     "data": {
      "text/plain": [
       "<keras.callbacks.History at 0x217520f3730>"
      ]
     },
     "execution_count": 6,
     "metadata": {},
     "output_type": "execute_result"
    }
   ],
   "source": [
    "model.fit(X_train, train_set_y_orig, epochs=25,\n",
    "       validation_data= (X_test,test_set_y_orig))"
   ]
  },
  {
   "cell_type": "code",
   "execution_count": 7,
   "metadata": {},
   "outputs": [
    {
     "name": "stdout",
     "output_type": "stream",
     "text": [
      "4/4 [==============================] - 0s 29ms/step - loss: 0.1669 - accuracy: 0.9583\n",
      "Test Accuracy: 0.9583333134651184\n"
     ]
    }
   ],
   "source": [
    "loss, acc = model.evaluate(X_test,test_set_y_orig)\n",
    "print('Test Accuracy:', acc)"
   ]
  },
  {
   "cell_type": "code",
   "execution_count": 8,
   "metadata": {},
   "outputs": [],
   "source": [
    "#saving the model\n",
    "\n",
    "model.save('model_cnn.h5')"
   ]
  },
  {
   "cell_type": "code",
   "execution_count": 9,
   "metadata": {},
   "outputs": [],
   "source": [
    "#load saved model\n",
    "\n",
    "loaded_model = models.load_model('model_cnn.h5')"
   ]
  },
  {
   "cell_type": "code",
   "execution_count": 20,
   "metadata": {},
   "outputs": [],
   "source": [
    "y_pred = model.predict(X_test)\n",
    "y_predicted_labels = np.array([np.argmax(i) for i in y_pred])"
   ]
  },
  {
   "cell_type": "code",
   "execution_count": 34,
   "metadata": {},
   "outputs": [
    {
     "data": {
      "text/plain": [
       "Text(69.0, 0.5, 'Truth')"
      ]
     },
     "execution_count": 34,
     "metadata": {},
     "output_type": "execute_result"
    },
    {
     "data": {
      "image/png": "[encoded data removed]",
      "text/plain": [
       "<Figure size 720x504 with 2 Axes>"
      ]
     },
     "metadata": {
      "needs_background": "light"
     },
     "output_type": "display_data"
    }
   ],
   "source": [
    "cm = confusion_matrix(test_set_y_orig, y_predicted_labels)\n",
    "plt.figure(figsize = (10,7))\n",
    "sns.heatmap(cm, annot=True, fmt='d', cmap='Blues')\n",
    "plt.xlabel('Predicted', color='r')\n",
    "plt.ylabel('Truth',color='g')"
   ]
  }
 ],
 "metadata": {
  "kernelspec": {
   "display_name": "Python 3",
   "language": "python",
   "name": "python3"
  },
  "language_info": {
   "codemirror_mode": {
    "name": "ipython",
    "version": 3
   },
   "file_extension": ".py",
   "mimetype": "text/x-python",
   "name": "python",
   "nbconvert_exporter": "python",
   "pygments_lexer": "ipython3",
   "version": "3.8.3"
  }
 },
 "nbformat": 4,
 "nbformat_minor": 4
}
